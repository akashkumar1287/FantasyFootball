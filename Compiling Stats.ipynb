{
 "cells": [
  {
   "cell_type": "code",
   "execution_count": 18,
   "metadata": {
    "scrolled": true
   },
   "outputs": [],
   "source": [
    "import pandas as pd\n",
    "\n",
    "csv_file_list = [\"2019.csv\", \"2018.csv\", \"2017.csv\",\"2016.csv\",\"2015.csv\",\"2014.csv\",\"2013.csv\",\"2012.csv\",\"2011.csv\",\"2010.csv\" \n",
    "                ,\"2009.csv\",\"2008.csv\",\"2007.csv\",\"2006.csv\",\"2005.csv\",\"2004.csv\",\"2003.csv\",\"2002.csv\",\"2001.csv\",\"2000.csv\"\n",
    "                ,\"1999.csv\",\"1998.csv\",\"1997.csv\",\"1996.csv\",\"1995.csv\",\"1994.csv\",\"1993.csv\",\"1992.csv\",\"1991.csv\",\"1990.csv\"\n",
    "                ,\"1989.csv\",\"1988.csv\",\"1987.csv\",\"1986.csv\",\"1985.csv\",\"1984.csv\",\"1983.csv\",\"1982.csv\",\"1981.csv\",\"1980.csv\"\n",
    "                ,\"1979.csv\",\"1978.csv\",\"1977.csv\",\"1976.csv\",\"1975.csv\",\"1974.csv\",\"1973.csv\",\"1972.csv\",\"1971.csv\",\"1979.csv\"]\n",
    "\n",
    "list_of_dataframes = []\n",
    "for filename in csv_file_list:\n",
    "    list_of_dataframes.append(pd.read_csv(filename))\n",
    "\n",
    "df = pd.concat(list_of_dataframes)\n"
   ]
  },
  {
   "cell_type": "code",
   "execution_count": 19,
   "metadata": {
    "scrolled": false
   },
   "outputs": [],
   "source": [
    "df = df.sort_values('FantasyPoints', ascending = False)\n",
    "df = df.reset_index(drop=True)\n",
    "new_df = df.drop(columns = ['Unnamed: 0'])"
   ]
  },
  {
   "cell_type": "code",
   "execution_count": 20,
   "metadata": {},
   "outputs": [],
   "source": [
    "FF = pd.read_csv('Total_Players_Stats.csv')\n",
    "FF = FF.drop(columns = ['Unnamed: 0'])\n",
    "RB = FF.loc[(FF['Pos'] == 'RB')]\n",
    "RB = RB.reset_index(drop=True)\n",
    "RB.to_csv('RB_Stats.csv')"
   ]
  },
  {
   "cell_type": "code",
   "execution_count": 21,
   "metadata": {},
   "outputs": [],
   "source": [
    "FF = pd.read_csv('Total_Players_Stats.csv')\n",
    "FF = FF.drop(columns = ['Unnamed: 0'])\n",
    "QB = FF.loc[(FF['Pos'] == 'QB')]\n",
    "QB = QB.reset_index(drop=True)\n",
    "QB.to_csv('QB_Stats.csv')"
   ]
  },
  {
   "cell_type": "code",
   "execution_count": 22,
   "metadata": {},
   "outputs": [],
   "source": [
    "FF = pd.read_csv('Total_Players_Stats.csv')\n",
    "FF = FF.drop(columns = ['Unnamed: 0'])\n",
    "WR = FF.loc[(FF['Pos'] == 'WR')]\n",
    "WR = WR.reset_index(drop=True)\n",
    "WR.to_csv('WR_Stats.csv')"
   ]
  },
  {
   "cell_type": "code",
   "execution_count": 23,
   "metadata": {},
   "outputs": [],
   "source": [
    "FF = pd.read_csv('Total_Players_Stats.csv')\n",
    "FF = FF.drop(columns = ['Unnamed: 0'])\n",
    "TE = FF.loc[(FF['Pos'] == 'TE')]\n",
    "TE = TE.reset_index(drop=True)\n",
    "TE.to_csv('TE_Stats.csv')"
   ]
  }
 ],
 "metadata": {
  "kernelspec": {
   "display_name": "Python 3",
   "language": "python",
   "name": "python3"
  },
  "language_info": {
   "codemirror_mode": {
    "name": "ipython",
    "version": 3
   },
   "file_extension": ".py",
   "mimetype": "text/x-python",
   "name": "python",
   "nbconvert_exporter": "python",
   "pygments_lexer": "ipython3",
   "version": "3.8.5"
  }
 },
 "nbformat": 4,
 "nbformat_minor": 4
}
