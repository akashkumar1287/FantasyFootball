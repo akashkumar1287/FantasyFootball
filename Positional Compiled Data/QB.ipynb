{
 "cells": [
  {
   "cell_type": "code",
   "execution_count": 110,
   "metadata": {
    "scrolled": true
   },
   "outputs": [],
   "source": [
    "import pandas as pd\n",
    "import numpy as np\n",
    "import matplotlib.pyplot as plt\n",
    "import seaborn as sns\n",
    "import scipy as sp\n",
    "import re\n",
    "import os\n",
    "import time\n",
    "df = pd.read_csv(\"QB_Stats.csv\")"
   ]
  },
  {
   "cell_type": "code",
   "execution_count": 63,
   "metadata": {},
   "outputs": [
    {
     "data": {
      "text/plain": [
       "0       22.0\n",
       "1       23.0\n",
       "2       37.0\n",
       "3       28.0\n",
       "4       30.0\n",
       "        ... \n",
       "3681    39.0\n",
       "3682    24.0\n",
       "3683    22.0\n",
       "3684    36.0\n",
       "3685    23.0\n",
       "Name: Age, Length: 3686, dtype: float64"
      ]
     },
     "execution_count": 63,
     "metadata": {},
     "output_type": "execute_result"
    }
   ],
   "source": [
    "df.Age"
   ]
  },
  {
   "cell_type": "code",
   "execution_count": 64,
   "metadata": {},
   "outputs": [
    {
     "data": {
      "text/plain": [
       "0       415.68\n",
       "1       415.08\n",
       "2       409.98\n",
       "3       397.42\n",
       "4       390.04\n",
       "         ...  \n",
       "3681     -7.28\n",
       "3682     -7.28\n",
       "3683     -7.44\n",
       "3684     -8.28\n",
       "3685    -10.74\n",
       "Name: FantasyPoints, Length: 3686, dtype: float64"
      ]
     },
     "execution_count": 64,
     "metadata": {},
     "output_type": "execute_result"
    }
   ],
   "source": [
    "df.FantasyPoints"
   ]
  },
  {
   "cell_type": "code",
   "execution_count": 93,
   "metadata": {},
   "outputs": [
    {
     "data": {
      "text/plain": [
       "(3686, 28)"
      ]
     },
     "execution_count": 93,
     "metadata": {},
     "output_type": "execute_result"
    }
   ],
   "source": [
    "df.shape"
   ]
  },
  {
   "cell_type": "code",
   "execution_count": 95,
   "metadata": {},
   "outputs": [],
   "source": [
    "df.columns = [c.replace(' ', '') for c in df.columns]"
   ]
  },
  {
   "cell_type": "code",
   "execution_count": 97,
   "metadata": {},
   "outputs": [
    {
     "data": {
      "text/plain": [
       "Index(['Unnamed:0', 'Player', 'Tm', 'Pos', 'Age', 'G', 'GS', 'Cmp', 'Att',\n",
       "       'Yds', 'Int', 'Att.1', 'Yds.1', 'Tgt', 'Rec', 'Yds.2', 'Y/R', 'Fumbles',\n",
       "       'FumblesLost', 'PassingYds', 'PassingTD', 'PassingAtt', 'RushingYds',\n",
       "       'RushingTD', 'RushingAtt', 'ReceivingYds', 'ReceivingTD',\n",
       "       'FantasyPoints'],\n",
       "      dtype='object')"
      ]
     },
     "execution_count": 97,
     "metadata": {},
     "output_type": "execute_result"
    }
   ],
   "source": [
    "df.columns"
   ]
  },
  {
   "cell_type": "code",
   "execution_count": 98,
   "metadata": {},
   "outputs": [],
   "source": [
    "df.drop(\"Unnamed:0\", axis = 1, inplace = True)"
   ]
  },
  {
   "cell_type": "code",
   "execution_count": 101,
   "metadata": {},
   "outputs": [
    {
     "data": {
      "text/html": [
       "<div>\n",
       "<style scoped>\n",
       "    .dataframe tbody tr th:only-of-type {\n",
       "        vertical-align: middle;\n",
       "    }\n",
       "\n",
       "    .dataframe tbody tr th {\n",
       "        vertical-align: top;\n",
       "    }\n",
       "\n",
       "    .dataframe thead th {\n",
       "        text-align: right;\n",
       "    }\n",
       "</style>\n",
       "<table border=\"1\" class=\"dataframe\">\n",
       "  <thead>\n",
       "    <tr style=\"text-align: right;\">\n",
       "      <th></th>\n",
       "      <th>Player</th>\n",
       "      <th>Tm</th>\n",
       "      <th>Pos</th>\n",
       "      <th>Age</th>\n",
       "      <th>G</th>\n",
       "      <th>GS</th>\n",
       "      <th>Cmp</th>\n",
       "      <th>Att</th>\n",
       "      <th>Yds</th>\n",
       "      <th>Int</th>\n",
       "      <th>...</th>\n",
       "      <th>FumblesLost</th>\n",
       "      <th>PassingYds</th>\n",
       "      <th>PassingTD</th>\n",
       "      <th>PassingAtt</th>\n",
       "      <th>RushingYds</th>\n",
       "      <th>RushingTD</th>\n",
       "      <th>RushingAtt</th>\n",
       "      <th>ReceivingYds</th>\n",
       "      <th>ReceivingTD</th>\n",
       "      <th>FantasyPoints</th>\n",
       "    </tr>\n",
       "  </thead>\n",
       "  <tbody>\n",
       "    <tr>\n",
       "      <th>0</th>\n",
       "      <td>Lamar Jackson</td>\n",
       "      <td>BAL</td>\n",
       "      <td>QB</td>\n",
       "      <td>22.0</td>\n",
       "      <td>15.0</td>\n",
       "      <td>15.0</td>\n",
       "      <td>265.0</td>\n",
       "      <td>401.0</td>\n",
       "      <td>3127.0</td>\n",
       "      <td>6.0</td>\n",
       "      <td>...</td>\n",
       "      <td>2.0</td>\n",
       "      <td>3127.0</td>\n",
       "      <td>36.0</td>\n",
       "      <td>401.0</td>\n",
       "      <td>1206.0</td>\n",
       "      <td>7.0</td>\n",
       "      <td>176.0</td>\n",
       "      <td>0.0</td>\n",
       "      <td>0.0</td>\n",
       "      <td>415.68</td>\n",
       "    </tr>\n",
       "    <tr>\n",
       "      <th>1</th>\n",
       "      <td>Patrick Mahomes</td>\n",
       "      <td>KAN</td>\n",
       "      <td>QB</td>\n",
       "      <td>23.0</td>\n",
       "      <td>16.0</td>\n",
       "      <td>16.0</td>\n",
       "      <td>383.0</td>\n",
       "      <td>580.0</td>\n",
       "      <td>5097.0</td>\n",
       "      <td>12.0</td>\n",
       "      <td>...</td>\n",
       "      <td>2.0</td>\n",
       "      <td>5097.0</td>\n",
       "      <td>50.0</td>\n",
       "      <td>580.0</td>\n",
       "      <td>272.0</td>\n",
       "      <td>2.0</td>\n",
       "      <td>60.0</td>\n",
       "      <td>0.0</td>\n",
       "      <td>0.0</td>\n",
       "      <td>415.08</td>\n",
       "    </tr>\n",
       "    <tr>\n",
       "      <th>2</th>\n",
       "      <td>Peyton Manning</td>\n",
       "      <td>DEN</td>\n",
       "      <td>QB</td>\n",
       "      <td>37.0</td>\n",
       "      <td>16.0</td>\n",
       "      <td>16.0</td>\n",
       "      <td>450.0</td>\n",
       "      <td>659.0</td>\n",
       "      <td>5477.0</td>\n",
       "      <td>10.0</td>\n",
       "      <td>...</td>\n",
       "      <td>6.0</td>\n",
       "      <td>5477.0</td>\n",
       "      <td>55.0</td>\n",
       "      <td>659.0</td>\n",
       "      <td>-31.0</td>\n",
       "      <td>1.0</td>\n",
       "      <td>32.0</td>\n",
       "      <td>0.0</td>\n",
       "      <td>0.0</td>\n",
       "      <td>409.98</td>\n",
       "    </tr>\n",
       "    <tr>\n",
       "      <th>3</th>\n",
       "      <td>Aaron Rodgers</td>\n",
       "      <td>GNB</td>\n",
       "      <td>QB</td>\n",
       "      <td>28.0</td>\n",
       "      <td>15.0</td>\n",
       "      <td>15.0</td>\n",
       "      <td>343.0</td>\n",
       "      <td>502.0</td>\n",
       "      <td>4643.0</td>\n",
       "      <td>6.0</td>\n",
       "      <td>...</td>\n",
       "      <td>0.0</td>\n",
       "      <td>4643.0</td>\n",
       "      <td>45.0</td>\n",
       "      <td>502.0</td>\n",
       "      <td>257.0</td>\n",
       "      <td>3.0</td>\n",
       "      <td>60.0</td>\n",
       "      <td>0.0</td>\n",
       "      <td>0.0</td>\n",
       "      <td>397.42</td>\n",
       "    </tr>\n",
       "    <tr>\n",
       "      <th>4</th>\n",
       "      <td>Tom Brady</td>\n",
       "      <td>NWE</td>\n",
       "      <td>QB</td>\n",
       "      <td>30.0</td>\n",
       "      <td>16.0</td>\n",
       "      <td>16.0</td>\n",
       "      <td>398.0</td>\n",
       "      <td>578.0</td>\n",
       "      <td>4806.0</td>\n",
       "      <td>8.0</td>\n",
       "      <td>...</td>\n",
       "      <td>4.0</td>\n",
       "      <td>4806.0</td>\n",
       "      <td>50.0</td>\n",
       "      <td>578.0</td>\n",
       "      <td>98.0</td>\n",
       "      <td>2.0</td>\n",
       "      <td>37.0</td>\n",
       "      <td>0.0</td>\n",
       "      <td>0.0</td>\n",
       "      <td>390.04</td>\n",
       "    </tr>\n",
       "  </tbody>\n",
       "</table>\n",
       "<p>5 rows × 27 columns</p>\n",
       "</div>"
      ],
      "text/plain": [
       "            Player   Tm Pos   Age     G    GS    Cmp    Att     Yds   Int  \\\n",
       "0    Lamar Jackson  BAL  QB  22.0  15.0  15.0  265.0  401.0  3127.0   6.0   \n",
       "1  Patrick Mahomes  KAN  QB  23.0  16.0  16.0  383.0  580.0  5097.0  12.0   \n",
       "2   Peyton Manning  DEN  QB  37.0  16.0  16.0  450.0  659.0  5477.0  10.0   \n",
       "3    Aaron Rodgers  GNB  QB  28.0  15.0  15.0  343.0  502.0  4643.0   6.0   \n",
       "4        Tom Brady  NWE  QB  30.0  16.0  16.0  398.0  578.0  4806.0   8.0   \n",
       "\n",
       "   ...  FumblesLost  PassingYds  PassingTD  PassingAtt  RushingYds  RushingTD  \\\n",
       "0  ...          2.0      3127.0       36.0       401.0      1206.0        7.0   \n",
       "1  ...          2.0      5097.0       50.0       580.0       272.0        2.0   \n",
       "2  ...          6.0      5477.0       55.0       659.0       -31.0        1.0   \n",
       "3  ...          0.0      4643.0       45.0       502.0       257.0        3.0   \n",
       "4  ...          4.0      4806.0       50.0       578.0        98.0        2.0   \n",
       "\n",
       "   RushingAtt  ReceivingYds  ReceivingTD  FantasyPoints  \n",
       "0       176.0           0.0          0.0         415.68  \n",
       "1        60.0           0.0          0.0         415.08  \n",
       "2        32.0           0.0          0.0         409.98  \n",
       "3        60.0           0.0          0.0         397.42  \n",
       "4        37.0           0.0          0.0         390.04  \n",
       "\n",
       "[5 rows x 27 columns]"
      ]
     },
     "execution_count": 101,
     "metadata": {},
     "output_type": "execute_result"
    }
   ],
   "source": [
    "df.head()"
   ]
  },
  {
   "cell_type": "code",
   "execution_count": 102,
   "metadata": {},
   "outputs": [
    {
     "data": {
      "text/plain": [
       "Player              0\n",
       "Tm                  0\n",
       "Pos                 0\n",
       "Age                 0\n",
       "G                   0\n",
       "GS                  0\n",
       "Cmp                 0\n",
       "Att                 0\n",
       "Yds                 0\n",
       "Int                 0\n",
       "Att.1               0\n",
       "Yds.1               0\n",
       "Tgt              1561\n",
       "Rec                 0\n",
       "Yds.2               0\n",
       "Y/R                 0\n",
       "Fumbles             0\n",
       "FumblesLost         0\n",
       "PassingYds          0\n",
       "PassingTD           0\n",
       "PassingAtt          0\n",
       "RushingYds          0\n",
       "RushingTD           0\n",
       "RushingAtt          0\n",
       "ReceivingYds        0\n",
       "ReceivingTD         0\n",
       "FantasyPoints       0\n",
       "dtype: int64"
      ]
     },
     "execution_count": 102,
     "metadata": {},
     "output_type": "execute_result"
    }
   ],
   "source": [
    "df.isnull().sum()"
   ]
  },
  {
   "cell_type": "code",
   "execution_count": 106,
   "metadata": {},
   "outputs": [
    {
     "name": "stdout",
     "output_type": "stream",
     "text": [
      "     Age  Count\n",
      "0   24.0    398\n",
      "1   25.0    380\n",
      "2   26.0    355\n",
      "3   27.0    315\n",
      "4   28.0    296\n",
      "5   23.0    292\n",
      "6   29.0    251\n",
      "7   30.0    227\n",
      "8   31.0    210\n",
      "9   32.0    189\n",
      "10  33.0    152\n",
      "11  34.0    130\n",
      "12  22.0    116\n",
      "13  35.0     92\n",
      "14  36.0     80\n",
      "15  37.0     69\n",
      "16  38.0     54\n",
      "17  39.0     32\n",
      "18  40.0     19\n",
      "19  21.0     11\n",
      "20  41.0      7\n",
      "21  42.0      5\n",
      "22  44.0      3\n",
      "23  43.0      3\n"
     ]
    }
   ],
   "source": [
    "counts_age = df[\"Age\"].value_counts()\n",
    "counts_age = counts_age.reset_index()\n",
    "counts_age.columns = [\"Age\",\"Count\"]\n",
    "print(counts_age)"
   ]
  },
  {
   "cell_type": "code",
   "execution_count": 114,
   "metadata": {},
   "outputs": [
    {
     "data": {
      "image/png": "[encoded data removed]",
      "text/plain": [
       "<Figure size 720x360 with 1 Axes>"
      ]
     },
     "metadata": {},
     "output_type": "display_data"
    }
   ],
   "source": [
    "pt = sns.catplot(y = \"Count\",\n",
    "            x = \"Age\", data = counts_age,\n",
    "           palette=\"colorblind\",height=5, aspect=2, kind=\"bar\");\n",
    "plt.style.use(\"ggplot\")\n",
    "plt.title(\"Age of Players\",\n",
    "          fontsize=25);"
   ]
  },
  {
   "cell_type": "code",
   "execution_count": 118,
   "metadata": {},
   "outputs": [
    {
     "data": {
      "image/png": "[encoded data removed]",
      "text/plain": [
       "<Figure size 720x360 with 1 Axes>"
      ]
     },
     "metadata": {},
     "output_type": "display_data"
    }
   ],
   "source": [
    "sns.catplot(x=\"Age\", y=\"FantasyPoints\", data=df,\n",
    "            aspect=2, kind=\"bar\", palette=\"cubehelix\");\n",
    "plt.style.use(\"ggplot\")\n",
    "plt.title(\"Fantasy Points vs Age\",\n",
    "          fontsize=25);"
   ]
  },
  {
   "cell_type": "code",
   "execution_count": null,
   "metadata": {},
   "outputs": [],
   "source": []
  }
 ],
 "metadata": {
  "kernelspec": {
   "display_name": "Python 3",
   "language": "python",
   "name": "python3"
  },
  "language_info": {
   "codemirror_mode": {
    "name": "ipython",
    "version": 3
   },
   "file_extension": ".py",
   "mimetype": "text/x-python",
   "name": "python",
   "nbconvert_exporter": "python",
   "pygments_lexer": "ipython3",
   "version": "3.8.5"
  }
 },
 "nbformat": 4,
 "nbformat_minor": 4
}
