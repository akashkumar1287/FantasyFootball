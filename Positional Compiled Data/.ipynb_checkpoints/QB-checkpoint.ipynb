{
 "cells": [
  {
   "cell_type": "code",
   "execution_count": null,
   "metadata": {
    "scrolled": true
   },
   "outputs": [],
   "source": [
    "import pandas as pd\n",
    "import numpy as np\n",
    "import matplotlib.pyplot as plt\n",
    "import seaborn as sns\n",
    "import scipy as sp\n",
    "import re\n",
    "import os\n",
    "import time\n",
    "df = pd.read_csv(\"QB_Stats.csv\")"
   ]
  },
  {
   "cell_type": "code",
   "execution_count": null,
   "metadata": {},
   "outputs": [],
   "source": [
    "df.Age"
   ]
  },
  {
   "cell_type": "code",
   "execution_count": null,
   "metadata": {},
   "outputs": [],
   "source": [
    "df.FantasyPoints"
   ]
  },
  {
   "cell_type": "code",
   "execution_count": null,
   "metadata": {},
   "outputs": [],
   "source": [
    "df.shape"
   ]
  },
  {
   "cell_type": "code",
   "execution_count": null,
   "metadata": {},
   "outputs": [],
   "source": [
    "df.columns = [c.replace(' ', '') for c in df.columns]"
   ]
  },
  {
   "cell_type": "code",
   "execution_count": null,
   "metadata": {},
   "outputs": [],
   "source": [
    "df.columns"
   ]
  },
  {
   "cell_type": "code",
   "execution_count": null,
   "metadata": {},
   "outputs": [],
   "source": [
    "df.drop(\"Unnamed:0\", axis = 1, inplace = True)"
   ]
  },
  {
   "cell_type": "code",
   "execution_count": null,
   "metadata": {},
   "outputs": [],
   "source": [
    "df.head()"
   ]
  },
  {
   "cell_type": "code",
   "execution_count": null,
   "metadata": {},
   "outputs": [],
   "source": [
    "df.isnull().sum()"
   ]
  },
  {
   "cell_type": "code",
   "execution_count": null,
   "metadata": {},
   "outputs": [],
   "source": [
    "counts_age = df[\"Age\"].value_counts()\n",
    "counts_age = counts_age.reset_index()\n",
    "counts_age.columns = [\"Age\",\"Count\"]\n",
    "print(counts_age)"
   ]
  },
  {
   "cell_type": "code",
   "execution_count": null,
   "metadata": {},
   "outputs": [],
   "source": [
    "pt = sns.catplot(y = \"Count\",\n",
    "            x = \"Age\", data = counts_age,\n",
    "           palette=\"colorblind\",height=5, aspect=2, kind=\"bar\");\n",
    "plt.style.use(\"ggplot\")\n",
    "plt.title(\"Age of Players\",\n",
    "          fontsize=25);"
   ]
  },
  {
   "cell_type": "code",
   "execution_count": null,
   "metadata": {},
   "outputs": [],
   "source": [
    "sns.catplot(x=\"Age\", y=\"FantasyPoints\", data=df,\n",
    "            aspect=2, kind=\"bar\", palette=\"cubehelix\");\n",
    "plt.style.use(\"ggplot\")\n",
    "plt.title(\"Fantasy Points vs Age\",\n",
    "          fontsize=25);"
   ]
  },
  {
   "cell_type": "code",
   "execution_count": null,
   "metadata": {},
   "outputs": [],
   "source": [
    "sns.catplot(x=\"Age\", y=\"PassingYds\", data=df, aspect=2, kind=\"bar\",palette=\"bright\");\n",
    "plt.style.use(\"ggplot\")\n",
    "plt.title(\"Age vs Passing Yards\",\n",
    "          fontsize=25);"
   ]
  },
  {
   "cell_type": "code",
   "execution_count": null,
   "metadata": {},
   "outputs": [],
   "source": [
    "counts_PassTD = df[\"PassingTD\"].value_counts()\n",
    "counts_PassTD = counts_PassTD.reset_index()\n",
    "counts_PassTD.columns= [\"PassingTD\",\"Counts\"]\n",
    "counts_PassTD()"
   ]
  },
  {
   "cell_type": "code",
   "execution_count": null,
   "metadata": {},
   "outputs": [],
   "source": [
    "sns.catplot(x=\"PassingTD\", y=\"FantasyPoints\", data=df,\n",
    "            aspect=2, kind=\"bar\", palette=\"cubehelix\");\n",
    "plt.style.use(\"ggplot\")\n",
    "plt.title(\"Fantasy Points vs PassingTD\",\n",
    "          fontsize=25);"
   ]
  }
 ],
 "metadata": {
  "kernelspec": {
   "display_name": "Python 3",
   "language": "python",
   "name": "python3"
  },
  "language_info": {
   "codemirror_mode": {
    "name": "ipython",
    "version": 3
   },
   "file_extension": ".py",
   "mimetype": "text/x-python",
   "name": "python",
   "nbconvert_exporter": "python",
   "pygments_lexer": "ipython3",
   "version": "3.8.5"
  }
 },
 "nbformat": 4,
 "nbformat_minor": 4
}
